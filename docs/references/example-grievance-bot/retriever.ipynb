{
 "cells": [
  {
   "cell_type": "markdown",
   "metadata": {},
   "source": [
    "# Install Dependencies"
   ]
  },
  {
   "cell_type": "code",
   "execution_count": null,
   "metadata": {},
   "outputs": [],
   "source": [
    "!pip install pgvector sqlalchemy psycopg2-binary jb-manager-bot tqdm python-dotenv json-repair"
   ]
  },
  {
   "cell_type": "markdown",
   "metadata": {},
   "source": [
    "# Setup Environment"
   ]
  },
  {
   "cell_type": "code",
   "execution_count": 1,
   "metadata": {
    "metadata": {}
   },
   "outputs": [],
   "source": [
    "from crud import session\n",
    "\n",
    "from pgvector.sqlalchemy import Vector\n",
    "from sqlalchemy.orm import declarative_base, mapped_column\n",
    "from sqlalchemy import ARRAY, Column, String, select\n",
    "from sqlalchemy.dialects.postgresql import JSON\n",
    "\n",
    "Base = declarative_base()\n",
    "\n",
    "\n",
    "class GrievanceCategory(Base):\n",
    "    __tablename__ = \"grievance_category_v2\"\n",
    "    id = Column(String, primary_key=True)\n",
    "    ministry = Column(String)\n",
    "    category = Column(String)\n",
    "    subcategory = Column(ARRAY(String))\n",
    "    description = Column(String)\n",
    "    embedding = mapped_column(Vector(1536))\n",
    "    fields = Column(ARRAY(JSON))\n",
    "\n",
    "    def __repr__(self):\n",
    "        return f\"<GrievanceCategory(ministry={self.ministry}, category={self.category}, subcategory={self.subcategory}>\""
   ]
  },
  {
   "cell_type": "markdown",
   "metadata": {},
   "source": [
    "# Helper functions for processing messages"
   ]
  },
  {
   "cell_type": "code",
   "execution_count": 2,
   "metadata": {
    "metadata": {}
   },
   "outputs": [],
   "source": [
    "from datetime import datetime\n",
    "from pprint import pprint\n",
    "from openai_utils import sm, um, am, llm, generate_embeddings"
   ]
  },
  {
   "cell_type": "markdown",
   "metadata": {},
   "source": [
    "#### Generate Summary"
   ]
  },
  {
   "cell_type": "code",
   "execution_count": 3,
   "metadata": {
    "metadata": {}
   },
   "outputs": [
    {
     "data": {
      "text/plain": [
       "{'role': 'system',\n",
       " 'content': 'You are a helpful assistant, the CPGRAMS bot, working with the Prime Minister of India’s office. Your role is to help users share their grievances on a grievance redressal platform for the Government of India. You will not offer any solutions for their grievance. You will merely try to extract as much information as possible to allow a grievance officer to deal with the grievance effectively. Current date: 2024-04-25'}"
      ]
     },
     "execution_count": 3,
     "metadata": {},
     "output_type": "execute_result"
    }
   ],
   "source": [
    "conversation_history = []\n",
    "\n",
    "system_prompt = f\"You are a helpful assistant, the CPGRAMS bot, working with the Prime Minister of India’s office. Your role is to help users share their grievances on a grievance redressal platform for the Government of India. You will not offer any solutions for their grievance. You will merely try to extract as much information as possible to allow a grievance officer to deal with the grievance effectively. Current date: {datetime.now().date().isoformat()}\"\n",
    "system_prompt = sm(system_prompt)\n",
    "conversation_history.append(system_prompt)\n",
    "system_prompt"
   ]
  },
  {
   "cell_type": "code",
   "execution_count": 4,
   "metadata": {
    "metadata": {}
   },
   "outputs": [
    {
     "data": {
      "text/plain": [
       "{'role': 'assistant', 'content': 'Hi, How can I help you?'}"
      ]
     },
     "execution_count": 4,
     "metadata": {},
     "output_type": "execute_result"
    }
   ],
   "source": [
    "start_message = \"Hi, How can I help you?\"\n",
    "start_message = am(start_message)\n",
    "conversation_history.append(start_message)\n",
    "start_message"
   ]
  },
  {
   "cell_type": "code",
   "execution_count": 5,
   "metadata": {
    "metadata": {}
   },
   "outputs": [
    {
     "data": {
      "text/plain": [
       "{'role': 'user',\n",
       " 'content': 'I am unable to access my PAN card from digilocker'}"
      ]
     },
     "execution_count": 5,
     "metadata": {},
     "output_type": "execute_result"
    }
   ],
   "source": [
    "user_input = \"I am unable to access my PAN card from digilocker\"\n",
    "user_input = um(user_input)\n",
    "conversation_history.append(user_input)\n",
    "user_input"
   ]
  },
  {
   "cell_type": "code",
   "execution_count": 6,
   "metadata": {
    "metadata": {}
   },
   "outputs": [
    {
     "name": "stdout",
     "output_type": "stream",
     "text": [
      "\n",
      "                Analyze the above conversation in detail and give your analysis. \n",
      "                Your analysis should be detailed enough such that it could be used to determine the grievance category from a database.\n",
      "                Do not try to determine the grievance category in this step.\n",
      "                Current date and time: 2024-04-25 15:16:17\n",
      "                Process any date and time related information in the conversation.\n",
      "                \n"
     ]
    }
   ],
   "source": [
    "system_prompt = f\"\"\"\n",
    "                Analyze the above conversation in detail and give your analysis. \n",
    "                Your analysis should be detailed enough such that it could be used to determine the grievance category from a database.\n",
    "                Do not try to determine the grievance category in this step.\n",
    "                Current date and time: {datetime.now().strftime(\"%Y-%m-%d %H:%M:%S\")}\n",
    "                Process any date and time related information in the conversation.\n",
    "                \"\"\"\n",
    "print(system_prompt)"
   ]
  },
  {
   "cell_type": "code",
   "execution_count": 7,
   "metadata": {
    "metadata": {}
   },
   "outputs": [
    {
     "name": "stdout",
     "output_type": "stream",
     "text": [
      "[{'content': 'You are a helpful assistant, the CPGRAMS bot, working with the '\n",
      "             'Prime Minister of India’s office. Your role is to help users '\n",
      "             'share their grievances on a grievance redressal platform for the '\n",
      "             'Government of India. You will not offer any solutions for their '\n",
      "             'grievance. You will merely try to extract as much information as '\n",
      "             'possible to allow a grievance officer to deal with the grievance '\n",
      "             'effectively. Current date: 2024-04-25',\n",
      "  'role': 'system'},\n",
      " {'content': 'Hi, How can I help you?', 'role': 'assistant'},\n",
      " {'content': 'I am unable to access my PAN card from digilocker',\n",
      "  'role': 'user'},\n",
      " {'content': '\\n'\n",
      "             '                Analyze the above conversation in detail and '\n",
      "             'give your analysis. \\n'\n",
      "             '                Your analysis should be detailed enough such '\n",
      "             'that it could be used to determine the grievance category from a '\n",
      "             'database.\\n'\n",
      "             '                Do not try to determine the grievance category '\n",
      "             'in this step.\\n'\n",
      "             '                Current date and time: 2024-04-25 15:16:17\\n'\n",
      "             '                Process any date and time related information in '\n",
      "             'the conversation.\\n'\n",
      "             '                ',\n",
      "  'role': 'system'}]\n"
     ]
    }
   ],
   "source": [
    "llm_system_prompt = sm(system_prompt)\n",
    "messages = conversation_history + [llm_system_prompt]\n",
    "pprint(messages)"
   ]
  },
  {
   "cell_type": "code",
   "execution_count": 8,
   "metadata": {
    "metadata": {}
   },
   "outputs": [
    {
     "name": "stdout",
     "output_type": "stream",
     "text": [
      "The user's grievance revolves around an issue with accessing their Permanent Account Number (PAN) card from DigiLocker. DigiLocker is a digital platform launched by the Government of India aimed at ensuring that citizens have access to authentic digital documents in a digital wallet provided by the government. The user's inability to access their PAN card from this platform can be attributed to several potential causes, such as technical glitches within the DigiLocker system, issues related to the linking of the PAN with the user's DigiLocker account, or discrepancies in the user's personal information that may be causing a mismatch.\n",
      "\n",
      "Key elements to extract and analyze for effectively categorizing and addressing this grievance include:\n",
      "\n",
      "1. **Nature of the Issue**: The problem is specifically related to accessing a government-issued document (PAN card) through a government-provided digital service (DigiLocker). This indicates that the grievance falls within the domain of digital governance and e-services.\n",
      "\n",
      "2. **Services Involved**: The grievance involves two critical services - the issuance and management of PAN cards, which is typically overseen by the Income Tax Department, and the DigiLocker service, which is an initiative under the Ministry of Electronics and Information Technology (MeitY). Understanding the interplay between these services is crucial for addressing the grievance.\n",
      "\n",
      "3. **Possible Causes**: The issue could stem from technical problems (e.g., server downtime, app malfunctions), user account issues (e.g., incorrect login credentials, PAN not linked to DigiLocker), or data mismatches (e.g., discrepancies in personal details between PAN records and DigiLocker).\n",
      "\n",
      "4. **Information Required for Resolution**: To effectively address the grievance, additional information might be needed, such as error messages received, steps already taken by the user to try and resolve the issue, and confirmation of personal details for verification purposes.\n",
      "\n",
      "5. **Impact on the User**: The inability to access the PAN card digitally can affect the user's ability to perform various financial transactions and comply with statutory requirements, highlighting the urgency of resolving the issue.\n",
      "\n",
      "6. **Potential Departments for Escalation**: The grievance may need to be escalated to the Income Tax Department for issues related to PAN details and to the technical team behind DigiLocker for problems related to the digital platform itself.\n",
      "\n",
      "This detailed analysis helps in understanding the complexity of the issue, which spans across technical, procedural, and personal information verification aspects, requiring a coordinated response from multiple government departments.\n"
     ]
    }
   ],
   "source": [
    "summary, cost = llm(messages, model=\"gpt-4-turbo-preview\")\n",
    "print(summary)"
   ]
  },
  {
   "cell_type": "markdown",
   "metadata": {},
   "source": [
    "```generate_summary``` - Function to generate summary of the user conversation.\n",
    "\n",
    "1. ```conv_history``` - Conversation history including initial system prompt. Function will internally handle the system prompts."
   ]
  },
  {
   "cell_type": "code",
   "execution_count": 9,
   "metadata": {
    "metadata": {}
   },
   "outputs": [],
   "source": [
    "def generate_summary(conv_history):\n",
    "    conv_summary, cost = llm(\n",
    "        messages=conv_history\n",
    "        + [\n",
    "            sm(\n",
    "                f\"\"\"\n",
    "                Analyze the above conversation in detail and give your analysis. \n",
    "                Your analysis should be detailed enough such that it could be used to determine the grievance category from a database.\n",
    "                Do not try to determine the grievance category in this step.\n",
    "                Current date and time: {datetime.now().strftime(\"%Y-%m-%d %H:%M:%S\")}\n",
    "                Process any date and time related information in the conversation.\n",
    "                \"\"\"\n",
    "            )\n",
    "        ],\n",
    "        model=\"gpt-4-turbo-preview\",\n",
    "    )\n",
    "    return conv_summary, cost"
   ]
  },
  {
   "cell_type": "code",
   "execution_count": 10,
   "metadata": {},
   "outputs": [
    {
     "name": "stdout",
     "output_type": "stream",
     "text": [
      "The user's grievance revolves around an issue with accessing their Permanent Account Number (PAN) card from DigiLocker. DigiLocker is a digital platform provided by the Government of India for the storage, sharing, and verification of documents and certificates. The user's inability to access their PAN card through this platform can be attributed to several potential causes, such as technical glitches, user account issues, or discrepancies in linking the PAN with the DigiLocker account.\n",
      "\n",
      "Key elements to extract and analyze for effectively categorizing and addressing this grievance include:\n",
      "\n",
      "1. **Nature of the Issue**: The problem is specifically related to accessing a PAN card on DigiLocker, which indicates it falls under issues related to digital government services, specifically those involving document access and management.\n",
      "\n",
      "2. **Possible Causes**:\n",
      "   - Technical issues with the DigiLocker platform, such as server downtime or bugs affecting document retrieval.\n",
      "   - User account problems, including login issues or incorrect linking of the PAN with the DigiLocker account.\n",
      "   - Data mismatch or errors in the PAN details provided to DigiLocker, leading to the inability to fetch the document.\n",
      "\n",
      "3. **Impact on the User**: The grievance suggests that the user is facing inconvenience due to the inability to access an important document, the PAN card, which is essential for various financial transactions and identity verification processes in India.\n",
      "\n",
      "4. **Urgency and Sensitivity**: While the message does not explicitly state the urgency, issues related to financial documents like the PAN card can be considered time-sensitive due to their importance in facilitating financial services and transactions.\n",
      "\n",
      "5. **Required Information for Resolution**:\n",
      "   - Detailed description of the error or issue faced when attempting to access the PAN card.\n",
      "   - Steps already taken by the user to try and resolve the issue (if any).\n",
      "   - User's DigiLocker account details (while ensuring privacy and security of the information).\n",
      "   - Specific error messages displayed (if any).\n",
      "\n",
      "6. **Potential Departments or Agencies for Redressal**: This grievance may need to be addressed by the team managing the DigiLocker platform, which falls under the Ministry of Electronics and Information Technology. Additionally, coordination with the Income Tax Department, which issues PAN cards, might be necessary if the issue relates to discrepancies in PAN details.\n",
      "\n",
      "This analysis helps in understanding the context and specifics of the grievance, which is crucial for categorizing it accurately and directing it to the appropriate department or agency for resolution.\n"
     ]
    }
   ],
   "source": [
    "summary, _ = generate_summary(conversation_history)\n",
    "print(summary)"
   ]
  },
  {
   "cell_type": "markdown",
   "metadata": {},
   "source": [
    "#### Get Relevant Grievance Category"
   ]
  },
  {
   "cell_type": "code",
   "execution_count": 11,
   "metadata": {},
   "outputs": [],
   "source": [
    "summary_embeddings, _ = generate_embeddings(conversation_summary=[summary])\n",
    "summary_embedding = summary_embeddings[0]"
   ]
  },
  {
   "cell_type": "code",
   "execution_count": 12,
   "metadata": {},
   "outputs": [
    {
     "data": {
      "text/plain": [
       "1536"
      ]
     },
     "execution_count": 12,
     "metadata": {},
     "output_type": "execute_result"
    }
   ],
   "source": [
    "len(summary_embedding)"
   ]
  },
  {
   "cell_type": "code",
   "execution_count": 13,
   "metadata": {},
   "outputs": [
    {
     "data": {
      "text/plain": [
       "[<GrievanceCategory(ministry=Unique Identification Authority of India, category=Linking of Aadhaar related issues, subcategory=['Linking of Aadhaar with PAN']>,\n",
       " <GrievanceCategory(ministry=Central Board of Direct Taxes (Income Tax), category=PAN Issues, subcategory=['Other']>,\n",
       " <GrievanceCategory(ministry=Central Board of Direct Taxes (Income Tax), category=PAN Issues, subcategory=['Delay in PAN issues']>,\n",
       " <GrievanceCategory(ministry=Central Board of Direct Taxes (Income Tax), category=PAN Issues, subcategory=['Wrong PAN number allotted']>,\n",
       " <GrievanceCategory(ministry=Central Board of Direct Taxes (Income Tax), category=PAN Issues, subcategory=['Mistakes in PAN card']>,\n",
       " <GrievanceCategory(ministry=Central Board of Direct Taxes (Income Tax), category=PAN Issues, subcategory=['Same PAN numbers allotted to multiple users']>,\n",
       " <GrievanceCategory(ministry=Ministry of Electronics & Information Technology, category=Digital Services (CSC/MyGov/NeGD/NIC), subcategory=['NeGD', 'DigiLocker']>,\n",
       " <GrievanceCategory(ministry=Labour and Employment, category=Compliance related Issues, subcategory=['UAN related issues/KYC related issues.']>,\n",
       " <GrievanceCategory(ministry=Telecommunications, category=Mobile Related, subcategory=['AADHAR Linking/Documents verification']>,\n",
       " <GrievanceCategory(ministry=Unique Identification Authority of India, category=Linking of Aadhaar related issues, subcategory=['Linking of Aadhaar with Bank Account']>]"
      ]
     },
     "execution_count": 13,
     "metadata": {},
     "output_type": "execute_result"
    }
   ],
   "source": [
    "top_k = 10\n",
    "relevant_categories = session.scalars(\n",
    "    select(GrievanceCategory)\n",
    "    .order_by(GrievanceCategory.embedding.l2_distance(summary_embedding))\n",
    "    .limit(top_k)\n",
    ").all()\n",
    "relevant_categories"
   ]
  },
  {
   "cell_type": "markdown",
   "metadata": {},
   "source": [
    "```get_closest_grievance_category``` - Function will fetch most relevant grievance bucket from the vectorDB. This is based on the query provided.\n",
    "\n",
    "\n",
    "1. ```conversation_summary``` - Summary of the conversation by the user.\n",
    "2. ```top_k``` - (Default = 5) Number of buckets need to be fetched."
   ]
  },
  {
   "cell_type": "code",
   "execution_count": 14,
   "metadata": {},
   "outputs": [],
   "source": [
    "import json\n",
    "\n",
    "\n",
    "def get_closest_grievance_category(conversation_summary: str, top_k: int = 5):\n",
    "    summary_embeddings, cost = generate_embeddings(\n",
    "        conversation_summary=[conversation_summary]\n",
    "    )\n",
    "    summary_embedding = summary_embeddings[0]\n",
    "    result = session.scalars(\n",
    "        select(GrievanceCategory)\n",
    "        .order_by(GrievanceCategory.embedding.l2_distance(summary_embedding))\n",
    "        .limit(top_k)\n",
    "    ).all()\n",
    "\n",
    "    option_template = \"Available grievance categories \\n {options}\"\n",
    "    options = \"\"\n",
    "    fields = []\n",
    "    buckets = []\n",
    "    for index, grievance in enumerate(result):\n",
    "        options = (\n",
    "            options\n",
    "            + f\"\\n{index+1}. Bucket Id: {index}\\nMinistry: {grievance.ministry}\\nCategory: {grievance.category}\\nSub Category: {grievance.subcategory}\\nDescription: {grievance.description}\"\n",
    "        )\n",
    "        buckets.append(grievance)\n",
    "        fields.append(grievance.fields)\n",
    "    closest_buckets = option_template.format(options=options)\n",
    "\n",
    "    return closest_buckets, fields, buckets, cost"
   ]
  },
  {
   "cell_type": "code",
   "execution_count": 15,
   "metadata": {},
   "outputs": [],
   "source": [
    "possible_buckets_text, fields, buckets_object, _ = get_closest_grievance_category(\n",
    "    summary, top_k=10\n",
    ")"
   ]
  },
  {
   "cell_type": "code",
   "execution_count": 16,
   "metadata": {},
   "outputs": [
    {
     "name": "stdout",
     "output_type": "stream",
     "text": [
      "<GrievanceCategory(ministry=Unique Identification Authority of India, category=Linking of Aadhaar related issues, subcategory=['Linking of Aadhaar with PAN']>\n",
      "<GrievanceCategory(ministry=Central Board of Direct Taxes (Income Tax), category=PAN Issues, subcategory=['Other']>\n",
      "<GrievanceCategory(ministry=Central Board of Direct Taxes (Income Tax), category=PAN Issues, subcategory=['Delay in PAN issues']>\n",
      "<GrievanceCategory(ministry=Central Board of Direct Taxes (Income Tax), category=PAN Issues, subcategory=['Wrong PAN number allotted']>\n",
      "<GrievanceCategory(ministry=Central Board of Direct Taxes (Income Tax), category=PAN Issues, subcategory=['Mistakes in PAN card']>\n",
      "<GrievanceCategory(ministry=Central Board of Direct Taxes (Income Tax), category=PAN Issues, subcategory=['Same PAN numbers allotted to multiple users']>\n",
      "<GrievanceCategory(ministry=Ministry of Electronics & Information Technology, category=Digital Services (CSC/MyGov/NeGD/NIC), subcategory=['NeGD', 'DigiLocker']>\n",
      "<GrievanceCategory(ministry=Labour and Employment, category=Compliance related Issues, subcategory=['UAN related issues/KYC related issues.']>\n",
      "<GrievanceCategory(ministry=Telecommunications, category=Mobile Related, subcategory=['AADHAR Linking/Documents verification']>\n",
      "<GrievanceCategory(ministry=Unique Identification Authority of India, category=Linking of Aadhaar related issues, subcategory=['Linking of Aadhaar with Bank Account']>\n"
     ]
    }
   ],
   "source": [
    "for bucket in buckets_object:\n",
    "    print(bucket)"
   ]
  },
  {
   "cell_type": "code",
   "execution_count": 17,
   "metadata": {},
   "outputs": [
    {
     "name": "stdout",
     "output_type": "stream",
     "text": [
      "Available grievance categories \n",
      " \n",
      "1. Bucket Id: 0\n",
      "Ministry: Unique Identification Authority of India\n",
      "Category: Linking of Aadhaar related issues\n",
      "Sub Category: ['Linking of Aadhaar with PAN']\n",
      "Description: This category of grievance pertains to issues related to the linking of Aadhaar with the Permanent Account Number (PAN) in India. Citizens may encounter problems or face difficulties while attempting to link their Aadhaar number with their PAN card. This could include technical issues on the income tax department's portal, errors in the data provided, or failure to link due to mismatch of details.\n",
      "\n",
      "Some possible ways in which people may refer to this grievance include:\n",
      "- Linking of Aadhaar with PAN card\n",
      "- Aadhaar-PAN linking issues\n",
      "- Problems in linking Aadhaar and PAN\n",
      "- Unable to link Aadhaar and PAN\n",
      "- Errors in Aadhaar-PAN linking\n",
      "\n",
      "It is important for individuals to ensure that their Aadhaar and PAN details are linked correctly as it is a mandatory requirement for various financial and income tax related transactions in India. If you are facing challenges in linking your Aadhaar with your PAN, you may seek assistance and resolution from the concerned authorities.\n",
      "2. Bucket Id: 1\n",
      "Ministry: Central Board of Direct Taxes (Income Tax)\n",
      "Category: PAN Issues\n",
      "Sub Category: ['Other']\n",
      "Description: This category pertains to grievances related to issues with Permanent Account Number (PAN) which do not fall under the existing sub categories such as Name Mismatch, Address Mismatch, Date of Birth Mismatch, etc. These grievances may include but are not limited to incorrect PAN details, issues with PAN application or processing, problems with PAN verification, issues with PAN cards, delay in PAN allotment, missing PAN card, duplicate PAN card, etc.\n",
      "\n",
      "Examples of ways in which people may refer to this grievance:\n",
      "- Problems with PAN details\n",
      "- Issues with PAN application\n",
      "- PAN card related concerns\n",
      "- Delay in PAN allotment\n",
      "- Missing or duplicate PAN card issues\n",
      "- PAN verification problems\n",
      "3. Bucket Id: 2\n",
      "Ministry: Central Board of Direct Taxes (Income Tax)\n",
      "Category: PAN Issues\n",
      "Sub Category: ['Delay in PAN issues']\n",
      "Description: This category pertains to grievances related to delays in the issuance of Permanent Account Number (PAN) by the Central Board of Direct Taxes (Income Tax Department). \n",
      "\n",
      "Examples of how people may refer to this grievance include:\n",
      "\n",
      "- Delay in PAN card issuance\n",
      "- Delay in PAN application processing\n",
      "- PAN number not received on time\n",
      "- Delay in PAN card delivery\n",
      "- PAN card delay complaint\n",
      "\n",
      "Individuals facing issues in receiving their PAN card in a timely manner or experiencing delays in the processing of their PAN application can register a grievance under this sub-category. This could include instances where the applicant has submitted all the necessary documents and information but has not received their PAN card within the specified timeframe.\n",
      "4. Bucket Id: 3\n",
      "Ministry: Central Board of Direct Taxes (Income Tax)\n",
      "Category: PAN Issues\n",
      "Sub Category: ['Wrong PAN number allotted']\n",
      "Description: PAN Issues under Central Board of Direct Taxes (Income Tax) pertain to grievances related to the Permanent Account Number (PAN) allotted to individuals, entities, or businesses. \n",
      "\n",
      "Sub Categories:\n",
      "1. Wrong PAN number allotted: This sub category includes grievances where individuals or entities have been assigned an incorrect PAN number by the Income Tax Department. This could lead to confusion, errors in tax filings, and other issues related to PAN verification. \n",
      "\n",
      "Examples:\n",
      "- Incorrect PAN number assigned\n",
      "- PAN number mismatch\n",
      "- PAN card with wrong details\n",
      "\n",
      "If you believe that you have been issued the wrong PAN number, it is crucial to address this issue promptly to avoid any complications with your tax filings or financial transactions. You can reach out to the Income Tax Department or relevant authorities to rectify the error and obtain the correct PAN number.\n",
      "5. Bucket Id: 4\n",
      "Ministry: Central Board of Direct Taxes (Income Tax)\n",
      "Category: PAN Issues\n",
      "Sub Category: ['Mistakes in PAN card']\n",
      "Description: Mistakes in PAN card grievance pertains to issues related to errors or inaccuracies in the Permanent Account Number (PAN) card issued by the Central Board of Direct Taxes (Income Tax). This may include incorrect personal details such as name, date of birth, address, photograph, or any other information printed on the PAN card. Examples of ways in which people may refer to this grievance include: discrepancies in PAN card information, PAN card errors, mistakes in taxpayer identification number card, inaccuracies in permanent account number card.\n",
      "6. Bucket Id: 5\n",
      "Ministry: Central Board of Direct Taxes (Income Tax)\n",
      "Category: PAN Issues\n",
      "Sub Category: ['Same PAN numbers allotted to multiple users']\n",
      "Description: This category of grievance pertains to situations where the same Permanent Account Number (PAN) has been allotted to multiple users by the Central Board of Direct Taxes (Income Tax department). This can lead to confusion, inaccuracies in tax filings, and potential legal issues. \n",
      "\n",
      "Examples of how people may refer to this grievance:\n",
      "1. Multiple users with the same PAN\n",
      "2. Duplicate PAN numbers issued\n",
      "3. PAN card mix-up\n",
      "4. PAN identity theft\n",
      "\n",
      "If you suspect that your PAN has been allotted to multiple users, it is important to address this issue promptly with the Income Tax department to avoid any complications in your tax filings.\n",
      "7. Bucket Id: 6\n",
      "Ministry: Ministry of Electronics & Information Technology\n",
      "Category: Digital Services (CSC/MyGov/NeGD/NIC)\n",
      "Sub Category: ['NeGD', 'DigiLocker']\n",
      "Description: The DigiLocker service provided by the National e-Governance Division (NeGD) under the Ministry of Electronics & Information Technology allows users to store, access, and share digital copies of important documents and certificates. \n",
      "\n",
      "Users may have the following grievances related to DigiLocker:\n",
      "1. Difficulty in accessing or signing up for DigiLocker account\n",
      "2. Issues with uploading or downloading documents on DigiLocker\n",
      "3. Concerns about the security and privacy of personal information stored on DigiLocker\n",
      "4. Problems with linking DigiLocker to other government services or platforms\n",
      "5. Unauthorized access to DigiLocker account\n",
      "6. Technical glitches or errors while using DigiLocker\n",
      "7. Unclear guidelines or instructions on how to use DigiLocker effectively\n",
      "\n",
      "Alternate terms for DigiLocker may include digital locker, online document storage, digital document repository, etc.\n",
      "8. Bucket Id: 7\n",
      "Ministry: Labour and Employment\n",
      "Category: Compliance related Issues\n",
      "Sub Category: ['UAN related issues/KYC related issues.']\n",
      "Description: UAN related issues/KYC related issues pertain to grievances related to the Unique Account Number (UAN) and Know Your Customer (KYC) processes in the context of labour and employment compliance. These issues may include challenges with UAN generation, activation, updating, linking to Aadhar and PAN cards, incorrect or incomplete KYC details, difficulties in verifying KYC documents, mismatched information, delays or errors in UAN/KYC processing, and any other issues hindering the smooth functioning of UAN and KYC procedures for employees in the labor force.\n",
      "\n",
      "Examples of ways in which people may refer to this grievance include:\n",
      "- Problems with UAN registration\n",
      "- Issues with KYC verification\n",
      "- Troubles with updating UAN details\n",
      "- Challenges with linking UAN to Aadhar/PAN cards\n",
      "- Delays in UAN/KYC processing\n",
      "- Errors in UAN/KYC details\n",
      "9. Bucket Id: 8\n",
      "Ministry: Telecommunications\n",
      "Category: Mobile Related\n",
      "Sub Category: ['AADHAR Linking/Documents verification']\n",
      "Description: This category of grievance pertains to issues related to Aadhar linking or document verification processes in the mobile telecommunications sector. This includes cases where individuals face challenges or obstacles when attempting to link their Aadhar card to their mobile number, or when they encounter difficulties in verifying their documents for mobile service activation or verification. Common terms used to refer to this grievance may include Aadhar linking issues, document verification problems, mobile number verification challenges, Aadhar card registration difficulties, and ID proof verification hurdles in the context of mobile connections.\n",
      "10. Bucket Id: 9\n",
      "Ministry: Unique Identification Authority of India\n",
      "Category: Linking of Aadhaar related issues\n",
      "Sub Category: ['Linking of Aadhaar with Bank Account']\n",
      "Description: This grievance category pertains to issues related to linking Aadhaar with a bank account. Citizens may face difficulties or challenges when trying to link their Aadhaar number with their bank account, whether it is due to technical issues, lack of information, long waiting times, errors in data entry, or any other hindrance in the process. Common terms used to refer to this grievance may include Aadhaar-bank account linking problems, linking Aadhaar with bank account issues, Aadhaar seeding problems with bank accounts, etc.\n"
     ]
    }
   ],
   "source": [
    "print(possible_buckets_text)"
   ]
  },
  {
   "cell_type": "markdown",
   "metadata": {},
   "source": [
    "```determine_grievance_bucket_and_followup_questions``` - Function to generate follow up questions as well as grievance buckets(if possible) in which the user query can belong. \n",
    "\n",
    "1. ```conversation_history``` - conversation history which will be analyzed to generate the followup questions and determine buckets.\n",
    "2. ```possible_buckets``` - List of possible choices of the grievance buckets. Generally the output from vectorDB call can suffice after incorporating test formatting."
   ]
  },
  {
   "cell_type": "code",
   "execution_count": 18,
   "metadata": {},
   "outputs": [],
   "source": [
    "def determine_grievance_bucket_and_followup_questions(\n",
    "    conversation_history, possible_buckets\n",
    "):\n",
    "    system_prompt = \"\"\"You are a helpful assistant, the CPGRAMS bot, working with the Prime Minister of India’s office. Your role is to help users share their grievances on a grievance redressal platform for the Government of India.\n",
    "    Here is a set of possible grievance buckets in which the user could raise a grievances. \n",
    "    Possible grievance buckets:\n",
    "    {options}\n",
    "    \n",
    "    Analyze the conversation history and the user input. \n",
    "    Your primary task is to determine most relevant grievance bucket in which the user query can fall.\n",
    "    Do not recommend grievance buckets if you do not have enough required information or you are not sure about. \n",
    "    Do not recommend grievance buckets that do not satisfy all the categories and subcatgories according to the information provided by user.\n",
    "    If you think you do not have enough information, generate a short follow up question that can be asked to the user whose response can help in determining the grievance bucket.\n",
    "    Also, generate an brief empathetic prefix message to show to the user before asking the followup question.\n",
    "    Do not recommend grievance buckets if multiple grievance buckets from the list satisfing the criteria given by required information. Ask the user to provide more information.\n",
    "    The follow up question should be very diverse. \n",
    "    You can ask upto 1 follow up question, not more than 1. \n",
    "    The follow up question should be very basic, do not ask question that you think a 15 year old would not be able to answer.\n",
    "    You will not offer any solutions for their grievance. You will merely try to extract as much information to exactly determine the grievance bucket.\n",
    "    Since you are not offering any solutions, you can ask any question that you think can help you determine the grievance bucket.\n",
    "    Analyze and tell why you think the grievance falls under the grievance bucket. If you don't think any grievance bucket from the provided list is relevant, tell the reason for it.\n",
    "\n",
    "\n",
    "    Give the output in the following json format:\n",
    "    {{\n",
    "        \"grievance_bucket\": \n",
    "            {{\n",
    "                \"bucket_id\": \"bucket_id\",\n",
    "                \"ministry\": \"ministry\",\n",
    "                \"category\": \"category\",\n",
    "                \"subcategory\": [\"subcategory\"],\n",
    "                \"description\": \"description\"\n",
    "            }}\n",
    "        ,\n",
    "        \"follow_up_questions\": [\n",
    "            \"question 1\"\n",
    "        ],\n",
    "        \"user_message\": \"Empathetic prefix message to show to user in a conversational manner. The message should be short and include emojis to show empathy and make the user feel comfortable.\"\n",
    "    }}\n",
    "    Provide empty list if no follow up questions are mentioned.\n",
    "    Provide none if no grievance buckets are mentioned by user. Do not generate new grievance buckets. Only consider the grievance buckets provided.\n",
    "    \"\"\"\n",
    "    system_prompt = sm(system_prompt.format(options=possible_buckets))\n",
    "    buckets_and_questions, cost = llm(\n",
    "        messages=conversation_history + [system_prompt],\n",
    "        model=\"gpt-4-turbo-preview\",\n",
    "        response_format={\"type\": \"json_object\"},\n",
    "    )\n",
    "    response = json.loads(buckets_and_questions)\n",
    "    return response, cost"
   ]
  },
  {
   "cell_type": "code",
   "execution_count": 19,
   "metadata": {},
   "outputs": [],
   "source": [
    "grievance_buckets, _ = determine_grievance_bucket_and_followup_questions(\n",
    "    conversation_history, possible_buckets_text\n",
    ")"
   ]
  },
  {
   "cell_type": "code",
   "execution_count": 20,
   "metadata": {},
   "outputs": [
    {
     "name": "stdout",
     "output_type": "stream",
     "text": [
      "{'follow_up_questions': [],\n",
      " 'grievance_bucket': {'bucket_id': '6',\n",
      "                      'category': 'Digital Services (CSC/MyGov/NeGD/NIC)',\n",
      "                      'description': 'The DigiLocker service provided by the '\n",
      "                                     'National e-Governance Division (NeGD) '\n",
      "                                     'under the Ministry of Electronics & '\n",
      "                                     'Information Technology allows users to '\n",
      "                                     'store, access, and share digital copies '\n",
      "                                     'of important documents and '\n",
      "                                     'certificates. \\n'\n",
      "                                     '\\n'\n",
      "                                     'Users may have the following grievances '\n",
      "                                     'related to DigiLocker:\\n'\n",
      "                                     '1. Difficulty in accessing or signing up '\n",
      "                                     'for DigiLocker account\\n'\n",
      "                                     '2. Issues with uploading or downloading '\n",
      "                                     'documents on DigiLocker\\n'\n",
      "                                     '3. Concerns about the security and '\n",
      "                                     'privacy of personal information stored '\n",
      "                                     'on DigiLocker\\n'\n",
      "                                     '4. Problems with linking DigiLocker to '\n",
      "                                     'other government services or platforms\\n'\n",
      "                                     '5. Unauthorized access to DigiLocker '\n",
      "                                     'account\\n'\n",
      "                                     '6. Technical glitches or errors while '\n",
      "                                     'using DigiLocker\\n'\n",
      "                                     '7. Unclear guidelines or instructions on '\n",
      "                                     'how to use DigiLocker effectively\\n'\n",
      "                                     '\\n'\n",
      "                                     'Alternate terms for DigiLocker may '\n",
      "                                     'include digital locker, online document '\n",
      "                                     'storage, digital document repository, '\n",
      "                                     'etc.',\n",
      "                      'ministry': 'Ministry of Electronics & Information '\n",
      "                                  'Technology',\n",
      "                      'subcategory': ['NeGD', 'DigiLocker']},\n",
      " 'user_message': \"I'm really sorry to hear that you're facing issues with \"\n",
      "                 \"accessing your PAN card from DigiLocker 😟. Let's get this \"\n",
      "                 'sorted.'}\n"
     ]
    }
   ],
   "source": [
    "pprint(grievance_buckets)"
   ]
  },
  {
   "cell_type": "markdown",
   "metadata": {},
   "source": [
    "```generate_field_questions``` - Function to generate follow up questions specific to the fields which is required to file a grievance. It will analyze the information and generate the questions accordingly.  \n",
    "\n",
    "1. ```grievance_bucket``` - Grievance bucket which is predicted in previous step.\n",
    "2. ```required_fields``` - List of fields required to filled by user to file the grievance.\n",
    "3. ```conversation_summary``` - Summary of the conversation."
   ]
  },
  {
   "cell_type": "code",
   "execution_count": 21,
   "metadata": {},
   "outputs": [],
   "source": [
    "def generate_field_questions(grievance_bucket, required_fields, conversation_summary):\n",
    "    system_prompt = \"\"\"\n",
    "    You are a helpful assistant, the CPGRAMS bot, working with the Prime Minister of India’s office. Your role is to help users share their grievances on a grievance redressal platform for the Government of India.\n",
    "    \n",
    "    You'll be grievance bucket, containing ministry name, category, sub categories and description of grievance in which user can file grievance.\n",
    "    You're also provided the fields required to file the grievance.\n",
    "    You'll be provided the conversation summary of the user.\n",
    "    Analyze the conversation summary and determine the value of fields. \n",
    "    Some fields might require description of the grievance, so infer the description on your own instead of asking the user.\n",
    "    Analyze and determine if value of all the mandatory fields are present. \n",
    "    Analyze the grievance bucket, and generate an brief empathetic prefix message to show to the user before asking the followup question.\n",
    "    Everything should be brief. \n",
    "    If value of all mandatory fields are present, set the value of mandatory_data_present to True, else set it to False.\n",
    "    If value of all mandatory fields are present, you can tell user in the brief emphatic message that all the required fields are present and ask them to confirm the values of the fields to proceed filing the grievance. \n",
    "    Do not generate more than 1 follow up question.\n",
    "    Your task is to restructure the follow up in json format as shown below:\n",
    "    {{\n",
    "        \"grievance_bucket\": \n",
    "            {{\n",
    "                \"bucket_id\": \"bucket_id\",\n",
    "                \"ministry\": \"ministry\",\n",
    "                \"category\": \"category\",\n",
    "                \"subcategory\": [\"subcategory\"],\n",
    "                \"description\": \"description\"\n",
    "            }}\n",
    "        ,\n",
    "        \"follow_up_questions\": [\n",
    "            \"question 1\"\n",
    "        ],\n",
    "        \"user_message\": \"Empathetic message to show to user in a conversational manner. The message should be short and include emojis to show empathy and make the user feel comfortable.\"\n",
    "        \"field_data\": \n",
    "            {{\n",
    "                \"field_1\": \"field_1_value\", # field_1 is the name of field and field_1_value is the value. use none if the value is not present.\n",
    "                \"field_2\": \"field_2_value\"\n",
    "            }}\n",
    "        ,\n",
    "        \"mandatory_data_present\": True/False # Set it to True if value for all the mandatory fields are present, else set it to False.\n",
    "    }}\n",
    "\n",
    "    Provide empty list if no follow up questions are needed.\n",
    "    \n",
    "    \"\"\"\n",
    "    user_message = f\"\"\"\n",
    "    Grievance bucket:\n",
    "    {grievance_bucket}\n",
    "\n",
    "    Required fields:\n",
    "    {required_fields}\n",
    "\n",
    "    Conversation Summary:\n",
    "    {conversation_summary}\n",
    "    \"\"\"\n",
    "    response, cost = llm(\n",
    "        messages=[sm(system_prompt), um(user_message)],\n",
    "        model=\"gpt-4-turbo-preview\",\n",
    "        response_format={\"type\": \"json_object\"},\n",
    "    )\n",
    "    response = json.loads(response)\n",
    "    return response, cost"
   ]
  },
  {
   "cell_type": "code",
   "execution_count": 22,
   "metadata": {},
   "outputs": [
    {
     "data": {
      "text/plain": [
       "{'bucket_id': '6',\n",
       " 'ministry': 'Ministry of Electronics & Information Technology',\n",
       " 'category': 'Digital Services (CSC/MyGov/NeGD/NIC)',\n",
       " 'subcategory': ['NeGD', 'DigiLocker'],\n",
       " 'description': 'The DigiLocker service provided by the National e-Governance Division (NeGD) under the Ministry of Electronics & Information Technology allows users to store, access, and share digital copies of important documents and certificates. \\n\\nUsers may have the following grievances related to DigiLocker:\\n1. Difficulty in accessing or signing up for DigiLocker account\\n2. Issues with uploading or downloading documents on DigiLocker\\n3. Concerns about the security and privacy of personal information stored on DigiLocker\\n4. Problems with linking DigiLocker to other government services or platforms\\n5. Unauthorized access to DigiLocker account\\n6. Technical glitches or errors while using DigiLocker\\n7. Unclear guidelines or instructions on how to use DigiLocker effectively\\n\\nAlternate terms for DigiLocker may include digital locker, online document storage, digital document repository, etc.'}"
      ]
     },
     "execution_count": 22,
     "metadata": {},
     "output_type": "execute_result"
    }
   ],
   "source": [
    "bucket = grievance_buckets[\"grievance_bucket\"]\n",
    "bucket"
   ]
  },
  {
   "cell_type": "code",
   "execution_count": 23,
   "metadata": {},
   "outputs": [
    {
     "data": {
      "text/plain": [
       "[{'field_name': 'Issue_Details',\n",
       "  'data_type': 'string',\n",
       "  'mandatory': True,\n",
       "  'description': 'Please provide details about the issue you are facing related to DigiLocker.'},\n",
       " {'field_name': 'Document_Type',\n",
       "  'data_type': 'string',\n",
       "  'mandatory': True,\n",
       "  'description': 'What type of document were you trying to upload/download/access in DigiLocker?'},\n",
       " {'field_name': 'Error_Message',\n",
       "  'data_type': 'string',\n",
       "  'mandatory': False,\n",
       "  'description': 'If you received any error message, please provide the exact text.'},\n",
       " {'field_name': 'Device_Used',\n",
       "  'data_type': 'string',\n",
       "  'mandatory': False,\n",
       "  'description': 'Which device (e.g., computer, mobile phone) were you using when you encountered the issue?'},\n",
       " {'field_name': 'Internet_Connection',\n",
       "  'data_type': 'boolean',\n",
       "  'mandatory': False,\n",
       "  'description': 'Did you have a stable internet connection at the time of the issue?'}]"
      ]
     },
     "execution_count": 23,
     "metadata": {},
     "output_type": "execute_result"
    }
   ],
   "source": [
    "user_choice = {\n",
    "    \"id\": bucket[\"bucket_id\"],\n",
    "    \"title\": f\"Ministry: {bucket['ministry']} :: Category: {bucket['category']} :: SubCategory: {bucket['subcategory']} :: Description: {bucket['description']}\",\n",
    "}\n",
    "required_fields = fields[int(user_choice[\"id\"])]\n",
    "required_fields"
   ]
  },
  {
   "cell_type": "code",
   "execution_count": 24,
   "metadata": {},
   "outputs": [
    {
     "name": "stdout",
     "output_type": "stream",
     "text": [
      "({'field_data': {'Device_Used': 'none',\n",
      "                 'Document_Type': 'PAN card',\n",
      "                 'Error_Message': 'none',\n",
      "                 'Internet_Connection': 'none',\n",
      "                 'Issue_Details': 'Inability to access PAN card on DigiLocker, '\n",
      "                                  'potentially due to technical issues, '\n",
      "                                  'account problems, or discrepancies in '\n",
      "                                  'linking PAN with DigiLocker account.'},\n",
      "  'follow_up_questions': [],\n",
      "  'grievance_bucket': {'bucket_id': '6',\n",
      "                       'category': 'Digital Services (CSC/MyGov/NeGD/NIC)',\n",
      "                       'description': 'The user is experiencing difficulty '\n",
      "                                      'accessing their Permanent Account '\n",
      "                                      'Number (PAN) card on DigiLocker. This '\n",
      "                                      'issue may be due to technical glitches, '\n",
      "                                      'user account problems, or discrepancies '\n",
      "                                      'in linking the PAN with the DigiLocker '\n",
      "                                      'account. Access to the PAN card is '\n",
      "                                      'crucial for the user for various '\n",
      "                                      'financial transactions and identity '\n",
      "                                      'verification processes.',\n",
      "                       'ministry': 'Ministry of Electronics & Information '\n",
      "                                   'Technology',\n",
      "                       'subcategory': ['NeGD', 'DigiLocker']},\n",
      "  'mandatory_data_present': True,\n",
      "  'user_message': 'We understand how important it is for you to access your '\n",
      "                  'PAN card on DigiLocker and the inconvenience this issue may '\n",
      "                  \"be causing you 😟. Rest assured, we're here to help. All the \"\n",
      "                  'required details for filing your grievance are present. '\n",
      "                  'Could you please confirm the details so we can proceed with '\n",
      "                  'filing your grievance?'},\n",
      " 0.01784)\n"
     ]
    }
   ],
   "source": [
    "field_questions = generate_field_questions(user_choice, required_fields, summary)\n",
    "pprint(field_questions)"
   ]
  },
  {
   "cell_type": "markdown",
   "metadata": {},
   "source": [
    "`process_message` - Function to process user conversation\n",
    "\n",
    "1. `conversation_history` - Conversation history\n",
    "\n",
    "\n",
    "Steps Involved - \n",
    "1. Summarise the end to end user conversation and generate a detailed description of user requirements and possible scenarios.\n",
    "2. Fetch 20 relevant grievance buckets corresponding to detailed description.\n",
    "3. Generate top 3 relevance buckets from the top 20 relevant buckets by analyzing the user conversation using GPT-4.\n",
    "4. Generate followup questions to gain more information by analyzing the user conversation using GPT-4.\n",
    "5. Structure the relevance buckets and followup questions into json format."
   ]
  },
  {
   "cell_type": "code",
   "execution_count": 25,
   "metadata": {},
   "outputs": [],
   "source": [
    "def process_message(conversation_history):\n",
    "    total_cost = 0.0\n",
    "    conversation_summary, cost = generate_summary(conversation_history)\n",
    "    total_cost += cost\n",
    "    possible_buckets, fields, buckets_object, cost = get_closest_grievance_category(\n",
    "        conversation_summary, top_k=30\n",
    "    )\n",
    "    total_cost += cost\n",
    "    grievance_bucket_followup_questions, cost = determine_grievance_bucket_and_followup_questions(\n",
    "        conversation_history, possible_buckets\n",
    "    )\n",
    "    total_cost += cost\n",
    "\n",
    "    user_choice = grievance_bucket_followup_questions[\"grievance_bucket\"]\n",
    "    if user_choice is None:\n",
    "        return (\n",
    "            grievance_bucket_followup_questions,\n",
    "            user_choice,\n",
    "            grievance_bucket_followup_questions,\n",
    "            False,\n",
    "            cost\n",
    "        )\n",
    "\n",
    "    user_choice = {\n",
    "        \"id\": user_choice[\"bucket_id\"],\n",
    "        \"title\": f\"Ministry: {user_choice['ministry']} :: Category: {user_choice['category']} :: SubCategory: {user_choice['subcategory']} :: Description: {user_choice['description']}\",\n",
    "    }\n",
    "\n",
    "    required_fields = fields[int(user_choice[\"id\"])]\n",
    "    field_questions, cost = generate_field_questions(\n",
    "        user_choice, required_fields, conversation_summary\n",
    "    )\n",
    "    total_cost += cost\n",
    "\n",
    "    return (\n",
    "        grievance_bucket_followup_questions,\n",
    "        user_choice,\n",
    "        field_questions,\n",
    "        field_questions[\"mandatory_data_present\"],\n",
    "        cost\n",
    "    )"
   ]
  },
  {
   "cell_type": "code",
   "execution_count": 26,
   "metadata": {},
   "outputs": [
    {
     "name": "stdout",
     "output_type": "stream",
     "text": [
      "Mandatory Fields Present: True\n",
      "{'field_data': {'Device_Used': 'none',\n",
      "                'Document_Type': 'Permanent Account Number (PAN) card',\n",
      "                'Error_Message': 'none',\n",
      "                'Internet_Connection': 'none',\n",
      "                'Issue_Details': 'The user is unable to access their Permanent '\n",
      "                                 'Account Number (PAN) card from DigiLocker '\n",
      "                                 'due to potential technical issues, account '\n",
      "                                 'verification problems, PAN card uploading or '\n",
      "                                 'linking issues, user authentication '\n",
      "                                 'failures, or misunderstandings about the '\n",
      "                                 'process.'},\n",
      " 'follow_up_questions': [],\n",
      " 'grievance_bucket': {'bucket_id': '2',\n",
      "                      'category': 'Digital Services (CSC/MyGov/NeGD/NIC)',\n",
      "                      'description': 'The DigiLocker service provided by the '\n",
      "                                     'National e-Governance Division (NeGD) '\n",
      "                                     'under the Ministry of Electronics & '\n",
      "                                     'Information Technology allows users to '\n",
      "                                     'store, access, and share digital copies '\n",
      "                                     'of important documents and '\n",
      "                                     'certificates. \\n'\n",
      "                                     '\\n'\n",
      "                                     'Users may have the following grievances '\n",
      "                                     'related to DigiLocker:\\n'\n",
      "                                     '1. Difficulty in accessing or signing up '\n",
      "                                     'for DigiLocker account\\n'\n",
      "                                     '2. Issues with uploading or downloading '\n",
      "                                     'documents on DigiLocker\\n'\n",
      "                                     '3. Concerns about the security and '\n",
      "                                     'privacy of personal information stored '\n",
      "                                     'on DigiLocker\\n'\n",
      "                                     '4. Problems with linking DigiLocker to '\n",
      "                                     'other government services or platforms\\n'\n",
      "                                     '5. Unauthorized access to DigiLocker '\n",
      "                                     'account\\n'\n",
      "                                     '6. Technical glitches or errors while '\n",
      "                                     'using DigiLocker\\n'\n",
      "                                     '7. Unclear guidelines or instructions on '\n",
      "                                     'how to use DigiLocker effectively\\n'\n",
      "                                     '\\n'\n",
      "                                     'Alternate terms for DigiLocker may '\n",
      "                                     'include digital locker, online document '\n",
      "                                     'storage, digital document repository, '\n",
      "                                     'etc.',\n",
      "                      'ministry': 'Ministry of Electronics & Information '\n",
      "                                  'Technology',\n",
      "                      'subcategory': ['NeGD', 'DigiLocker']},\n",
      " 'mandatory_data_present': True,\n",
      " 'user_message': 'We understand how important it is for you to access your PAN '\n",
      "                 'card on DigiLocker and apologize for any inconvenience '\n",
      "                 \"you've faced 🙏. Rest assured, we're here to help. All the \"\n",
      "                 'required details for filing your grievance are present. '\n",
      "                 'Could you please confirm the details so we can proceed with '\n",
      "                 'filing your grievance?'}\n"
     ]
    }
   ],
   "source": [
    "_, _, response, is_mandatory_fields_present, _ = process_message(conversation_history)\n",
    "\n",
    "print(f\"Mandatory Fields Present: {is_mandatory_fields_present}\")\n",
    "pprint(response)"
   ]
  },
  {
   "cell_type": "markdown",
   "metadata": {},
   "source": [
    "# Example Conversation"
   ]
  },
  {
   "cell_type": "markdown",
   "metadata": {},
   "source": [
    "### Example 1"
   ]
  },
  {
   "cell_type": "code",
   "execution_count": 27,
   "metadata": {},
   "outputs": [
    {
     "name": "stdout",
     "output_type": "stream",
     "text": [
      "BOT:> Hi, How can I help you?\n"
     ]
    }
   ],
   "source": [
    "conversation_history = []\n",
    "\n",
    "system_prompt = sm(\n",
    "    f\"You are a helpful assistant, the CPGRAMS bot, working with the Prime Minister of India’s office. Your role is to help users share their grievances on a grievance redressal platform for the Government of India. You will not offer any solutions for their grievance. You will merely try to extract as much information as possible to allow a grievance officer to deal with the grievance effectively. Current date: {datetime.now().date().isoformat()}\"\n",
    ")\n",
    "conversation_history.append(system_prompt)\n",
    "\n",
    "start_message = \"Hi, How can I help you?\"\n",
    "print(f\"BOT:> {start_message}\")\n",
    "\n",
    "start_message = am(start_message)\n",
    "conversation_history.append(start_message)"
   ]
  },
  {
   "cell_type": "code",
   "execution_count": 28,
   "metadata": {},
   "outputs": [
    {
     "name": "stdout",
     "output_type": "stream",
     "text": [
      "USER:> The facilities at government hospital are not good.\n",
      "\n",
      "BOT:> I'm really sorry to hear that you're facing issues with the facilities at a government hospital 😟. To help you better, could you provide a bit more detail?\n",
      "BOT:> Could you please specify if your concern is related to the quality of healthcare services, availability of medical supplies, infrastructure, or something else at the government hospital?\n"
     ]
    }
   ],
   "source": [
    "user_input = \"The facilities at government hospital are not good.\"\n",
    "\n",
    "print(f\"USER:> {user_input}\")\n",
    "print()\n",
    "\n",
    "user_input = um(user_input)\n",
    "conversation_history.append(user_input)\n",
    "\n",
    "_, _, response, is_mandatory_fields_present, cost = process_message(conversation_history)\n",
    "\n",
    "conversation_history.append(am(response[\"user_message\"]))\n",
    "print(f'BOT:> {response[\"user_message\"]}')\n",
    "for question in response[\"follow_up_questions\"]:\n",
    "    conversation_history.append(am(question))\n",
    "    print(f\"BOT:> {question}\")\n",
    "\n",
    "if is_mandatory_fields_present:\n",
    "    for field_data in response[\"field_data\"]:\n",
    "        print(f'{field_data}: {response[\"field_data\"][field_data]}')"
   ]
  },
  {
   "cell_type": "code",
   "execution_count": 29,
   "metadata": {},
   "outputs": [
    {
     "name": "stdout",
     "output_type": "stream",
     "text": [
      "Cost: $0.07043\n"
     ]
    }
   ],
   "source": [
    "print(f\"Cost: ${cost}\")"
   ]
  },
  {
   "cell_type": "code",
   "execution_count": 30,
   "metadata": {},
   "outputs": [
    {
     "name": "stdout",
     "output_type": "stream",
     "text": [
      "USER:> The staff was rude to me\n",
      "\n",
      "BOT:> I'm truly sorry to hear about your experience 😟. It's important for us to ensure everyone receives respectful treatment. To assist you better, could you share a bit more detail?\n",
      "BOT:> Could you please specify which hospital you're referring to? This will help us understand and categorize your grievance accurately.\n"
     ]
    }
   ],
   "source": [
    "user_input = \"The staff was rude to me\"\n",
    "print(f\"USER:> {user_input}\")\n",
    "print()\n",
    "\n",
    "user_input = um(user_input)\n",
    "conversation_history.append(user_input)\n",
    "\n",
    "_, _, response, is_mandatory_fields_present, cost = process_message(conversation_history)\n",
    "\n",
    "conversation_history.append(am(response[\"user_message\"]))\n",
    "print(f'BOT:> {response[\"user_message\"]}')\n",
    "for question in response[\"follow_up_questions\"]:\n",
    "    conversation_history.append(am(question))\n",
    "    print(f\"BOT:> {question}\")\n",
    "\n",
    "if is_mandatory_fields_present:\n",
    "    for field_data in response[\"field_data\"]:\n",
    "        print(f'{field_data}: {response[\"field_data\"][field_data]}')"
   ]
  },
  {
   "cell_type": "code",
   "execution_count": 31,
   "metadata": {},
   "outputs": [
    {
     "name": "stdout",
     "output_type": "stream",
     "text": [
      "Cost: $0.06911\n"
     ]
    }
   ],
   "source": [
    "print(f\"Cost: ${cost}\")"
   ]
  },
  {
   "cell_type": "code",
   "execution_count": 32,
   "metadata": {},
   "outputs": [
    {
     "name": "stdout",
     "output_type": "stream",
     "text": [
      "USER:> I went to AIIMS Patna today and nurse told me to get lost when I asked him about my reports.\n",
      "\n",
      "BOT:> We're truly sorry to hear about your experience 😔. It seems we have all the necessary details to file your grievance. Could you please confirm the information below to proceed?\n",
      "date_of_incident: 2024-04-25\n",
      "department_involved: Nursing\n",
      "description_of_incident: The user approached a nurse to inquire about their medical reports, and the nurse responded rudely by telling the user to 'get lost.'\n",
      "witnesses: none\n",
      "action_taken_previously: none\n"
     ]
    }
   ],
   "source": [
    "user_input = \"I went to AIIMS Patna today and nurse told me to get lost when I asked him about my reports.\"\n",
    "print(f\"USER:> {user_input}\")\n",
    "print()\n",
    "\n",
    "user_input = um(user_input)\n",
    "conversation_history.append(user_input)\n",
    "\n",
    "_, _, response, is_mandatory_fields_present, cost = process_message(conversation_history)\n",
    "\n",
    "conversation_history.append(am(response[\"user_message\"]))\n",
    "print(f'BOT:> {response[\"user_message\"]}')\n",
    "for question in response[\"follow_up_questions\"]:\n",
    "    conversation_history.append(am(question))\n",
    "    print(f\"BOT:> {question}\")\n",
    "\n",
    "if is_mandatory_fields_present:\n",
    "    for field_data in response[\"field_data\"]:\n",
    "        print(f'{field_data}: {response[\"field_data\"][field_data]}')"
   ]
  },
  {
   "cell_type": "code",
   "execution_count": 33,
   "metadata": {},
   "outputs": [
    {
     "name": "stdout",
     "output_type": "stream",
     "text": [
      "Cost: $0.015390000000000001\n"
     ]
    }
   ],
   "source": [
    "print(f\"Cost: ${cost}\")"
   ]
  }
 ],
 "metadata": {
  "kernelspec": {
   "display_name": ".venv",
   "language": "python",
   "name": "python3"
  },
  "language_info": {
   "codemirror_mode": {
    "name": "ipython",
    "version": 3
   },
   "file_extension": ".py",
   "mimetype": "text/x-python",
   "name": "python",
   "nbconvert_exporter": "python",
   "pygments_lexer": "ipython3",
   "version": "3.10.12"
  }
 },
 "nbformat": 4,
 "nbformat_minor": 2
}
